{
 "cells": [
  {
   "cell_type": "code",
   "execution_count": null,
   "id": "944a217c-ccb8-4739-8a3a-17dd57419370",
   "metadata": {},
   "outputs": [],
   "source": [
    "**Hand Written Digit Prediction - Classification Analysis**\n",
    "\n",
    "The digits dataset consists of 8x8 pixel images of digits. The images attributes of the dataset stores 8x8 arrays of grayscale values for each image.\n"
   ]
  },
  {
   "cell_type": "code",
   "execution_count": null,
   "id": "c0487ca5-73bc-4618-80e9-1bbe3e52539b",
   "metadata": {},
   "outputs": [],
   "source": [
    "import pandas as pd"
   ]
  },
  {
   "cell_type": "code",
   "execution_count": null,
   "id": "57bb9788-7499-46bf-976b-d9feb7a3b287",
   "metadata": {},
   "outputs": [],
   "source": [
    "import numpy as np"
   ]
  },
  {
   "cell_type": "code",
   "execution_count": null,
   "id": "009709fa-6754-4c4e-99ca-20e5a0434720",
   "metadata": {},
   "outputs": [],
   "source": [
    "import matplotlib.pyplot as plt\n"
   ]
  },
  {
   "cell_type": "code",
   "execution_count": null,
   "id": "60246e43-36cc-45a3-a6f4-511d2652ec76",
   "metadata": {},
   "outputs": [],
   "source": [
    "**Import Data**"
   ]
  },
  {
   "cell_type": "code",
   "execution_count": null,
   "id": "eeb1ac78-4ebf-4d40-9780-c93f17f2e3da",
   "metadata": {},
   "outputs": [],
   "source": [
    "from sklearn.datasets import load_digits"
   ]
  },
  {
   "cell_type": "code",
   "execution_count": null,
   "id": "5bdcc269-d599-4d06-9af6-17c2a1f06d79",
   "metadata": {},
   "outputs": [],
   "source": [
    "df = load_digits()"
   ]
  },
  {
   "cell_type": "code",
   "execution_count": null,
   "id": "d3cad500-ecd0-4481-87c7-5b392ce1f60f",
   "metadata": {},
   "outputs": [],
   "source": [
    "_, axes = plt.subplots(nrows=1, ncols=5, figsize=(10, 3))\n",
    "for ax, image, label in zip(axes, df.images, df.target):\n",
    "    ax.set_axis_off()\n",
    "    ax.imshow(image, cmap=plt.cm.gray_r, interpolation=\"nearest\")\n",
    "    ax.set_title(\"Training: %i\" % label)"
   ]
  },
  {
   "cell_type": "code",
   "execution_count": null,
   "id": "1beae5dd-2130-45f4-9721-841ef866d312",
   "metadata": {},
   "outputs": [],
   "source": [
    "df.images.shape\n"
   ]
  },
  {
   "cell_type": "code",
   "execution_count": null,
   "id": "065f7fa5-efeb-4181-899a-66e30f978a06",
   "metadata": {},
   "outputs": [],
   "source": [
    "df.images[0]"
   ]
  },
  {
   "cell_type": "code",
   "execution_count": null,
   "id": "7e856f0a-1321-4c3a-ba77-7b6336677952",
   "metadata": {},
   "outputs": [],
   "source": [
    "df.images[0].shape"
   ]
  },
  {
   "cell_type": "code",
   "execution_count": null,
   "id": "94595531-cfb9-4526-a605-73c370a6c161",
   "metadata": {},
   "outputs": [],
   "source": [
    "len(df.images)"
   ]
  },
  {
   "cell_type": "code",
   "execution_count": null,
   "id": "e09f3768-fea5-4d4c-b2bf-bbeacb39d6ed",
   "metadata": {},
   "outputs": [],
   "source": [
    "n_samples = len(df.images)\n",
    "data = df.images.reshape((n_samples, -1))"
   ]
  },
  {
   "cell_type": "code",
   "execution_count": null,
   "id": "2002303b-2442-4fd9-921c-9a911127e987",
   "metadata": {},
   "outputs": [],
   "source": [
    "data[0]"
   ]
  },
  {
   "cell_type": "code",
   "execution_count": null,
   "id": "ed10c5e3-4809-447f-abfe-1261802bb8ea",
   "metadata": {},
   "outputs": [],
   "source": [
    "data[0].shape"
   ]
  },
  {
   "cell_type": "code",
   "execution_count": null,
   "id": "41d7a0af-4bc9-457b-99f7-cc4ba1ab62cd",
   "metadata": {},
   "outputs": [],
   "source": [
    "data.shape"
   ]
  },
  {
   "cell_type": "code",
   "execution_count": null,
   "id": "7643f4d0-c079-4d27-8391-c0c5d9e0cddc",
   "metadata": {},
   "outputs": [],
   "source": [
    "data.min()"
   ]
  },
  {
   "cell_type": "code",
   "execution_count": null,
   "id": "90f8be70-ea6f-4a12-94a7-ffa792f14d1f",
   "metadata": {},
   "outputs": [],
   "source": [
    "data.max()"
   ]
  },
  {
   "cell_type": "code",
   "execution_count": null,
   "id": "ba46a172-198d-496c-98c3-83d5f5492bda",
   "metadata": {},
   "outputs": [],
   "source": [
    "data = data/16"
   ]
  },
  {
   "cell_type": "code",
   "execution_count": null,
   "id": "d5906eb6-5961-4f22-b8ac-8910e98539d3",
   "metadata": {},
   "outputs": [],
   "source": [
    "data = data/16"
   ]
  },
  {
   "cell_type": "code",
   "execution_count": null,
   "id": "f469f1ee-7c4e-4460-b777-871c40bb5f97",
   "metadata": {},
   "outputs": [],
   "source": [
    "data.max()"
   ]
  },
  {
   "cell_type": "code",
   "execution_count": null,
   "id": "8d578620-31ee-4467-a43e-59a1bc2af062",
   "metadata": {},
   "outputs": [],
   "source": [
    "data[0]"
   ]
  },
  {
   "cell_type": "code",
   "execution_count": null,
   "id": "ff13643d-4be7-4881-a1b7-e258d18785ca",
   "metadata": {},
   "outputs": [],
   "source": [
    "from sklearn.model_selection import train_test_split"
   ]
  },
  {
   "cell_type": "code",
   "execution_count": null,
   "id": "2d2727b8-18c2-4069-8799-e2f0e3164b4c",
   "metadata": {},
   "outputs": [],
   "source": [
    "x_train, x_test, y_train, y_test = train_test_split(data, df.target, test_size=0.3)"
   ]
  },
  {
   "cell_type": "code",
   "execution_count": null,
   "id": "4275cc79-c0c6-44a3-b718-7ddd67b386c6",
   "metadata": {},
   "outputs": [],
   "source": [
    "x_train.shape, x_test.shape, y_train.shape, y_test.shape"
   ]
  },
  {
   "cell_type": "code",
   "execution_count": null,
   "id": "5194586c-1bec-4739-b6fa-10f555b38adc",
   "metadata": {},
   "outputs": [],
   "source": [
    "from sklearn.ensemble import RandomForestClassifier"
   ]
  },
  {
   "cell_type": "code",
   "execution_count": null,
   "id": "aa90fbc6-9589-44c0-af4e-1889387be150",
   "metadata": {},
   "outputs": [],
   "source": [
    "rf = RandomForestClassifier()"
   ]
  },
  {
   "cell_type": "code",
   "execution_count": null,
   "id": "9e0c84d2-3ac7-4e55-b1b2-0b5d3039f38a",
   "metadata": {},
   "outputs": [],
   "source": [
    "rf.fit(x_train, y_train)"
   ]
  },
  {
   "cell_type": "code",
   "execution_count": null,
   "id": "553d9c91-dad8-4248-ae2a-23d08de6589b",
   "metadata": {},
   "outputs": [],
   "source": [
    "y_pred = rf.predict(x_test)"
   ]
  },
  {
   "cell_type": "code",
   "execution_count": null,
   "id": "fd09a6e8-d63e-4366-90ab-d18c0b67c47b",
   "metadata": {},
   "outputs": [],
   "source": [
    "y_pred"
   ]
  },
  {
   "cell_type": "code",
   "execution_count": null,
   "id": "4de6112a-195d-4f4f-984b-a62469420c94",
   "metadata": {},
   "outputs": [],
   "source": [
    "from sklearn.metrics import confusion_matrix, classification_report"
   ]
  },
  {
   "cell_type": "code",
   "execution_count": null,
   "id": "7d3cbf57-115e-420e-8737-a8601eac3da5",
   "metadata": {},
   "outputs": [],
   "source": [
    "confusion_matrix(y_test, y_pred)"
   ]
  },
  {
   "cell_type": "code",
   "execution_count": null,
   "id": "8a02d2d4-eaf9-4fa2-a18e-c831a516d5b5",
   "metadata": {},
   "outputs": [],
   "source": []
  }
 ],
 "metadata": {
  "kernelspec": {
   "display_name": "Python 3 (ipykernel)",
   "language": "python",
   "name": "python3"
  },
  "language_info": {
   "codemirror_mode": {
    "name": "ipython",
    "version": 3
   },
   "file_extension": ".py",
   "mimetype": "text/x-python",
   "name": "python",
   "nbconvert_exporter": "python",
   "pygments_lexer": "ipython3",
   "version": "3.12.4"
  }
 },
 "nbformat": 4,
 "nbformat_minor": 5
}
